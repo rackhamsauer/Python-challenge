{
 "cells": [
  {
   "cell_type": "code",
   "execution_count": 90,
   "id": "85aa8bb0",
   "metadata": {},
   "outputs": [
    {
     "data": {
      "text/html": [
       "<div>\n",
       "<style scoped>\n",
       "    .dataframe tbody tr th:only-of-type {\n",
       "        vertical-align: middle;\n",
       "    }\n",
       "\n",
       "    .dataframe tbody tr th {\n",
       "        vertical-align: top;\n",
       "    }\n",
       "\n",
       "    .dataframe thead th {\n",
       "        text-align: right;\n",
       "    }\n",
       "</style>\n",
       "<table border=\"1\" class=\"dataframe\">\n",
       "  <thead>\n",
       "    <tr style=\"text-align: right;\">\n",
       "      <th></th>\n",
       "      <th>Date</th>\n",
       "      <th>Profit/Losses</th>\n",
       "    </tr>\n",
       "  </thead>\n",
       "  <tbody>\n",
       "    <tr>\n",
       "      <th>0</th>\n",
       "      <td>Jan-10</td>\n",
       "      <td>1088983</td>\n",
       "    </tr>\n",
       "    <tr>\n",
       "      <th>1</th>\n",
       "      <td>Feb-10</td>\n",
       "      <td>-354534</td>\n",
       "    </tr>\n",
       "    <tr>\n",
       "      <th>2</th>\n",
       "      <td>Mar-10</td>\n",
       "      <td>276622</td>\n",
       "    </tr>\n",
       "    <tr>\n",
       "      <th>3</th>\n",
       "      <td>Apr-10</td>\n",
       "      <td>-728133</td>\n",
       "    </tr>\n",
       "    <tr>\n",
       "      <th>4</th>\n",
       "      <td>May-10</td>\n",
       "      <td>852993</td>\n",
       "    </tr>\n",
       "  </tbody>\n",
       "</table>\n",
       "</div>"
      ],
      "text/plain": [
       "     Date  Profit/Losses\n",
       "0  Jan-10        1088983\n",
       "1  Feb-10        -354534\n",
       "2  Mar-10         276622\n",
       "3  Apr-10        -728133\n",
       "4  May-10         852993"
      ]
     },
     "execution_count": 90,
     "metadata": {},
     "output_type": "execute_result"
    }
   ],
   "source": [
    "import pandas as pd\n",
    "from pathlib import Path\n",
    "\n",
    "#file to upload\n",
    "budget_path = Path(\"/Users/staciesauer/GitHub/Python-Challenge/PyBank/Resources/budget_data.csv\")\n",
    "\n",
    "#read csv and add data to dataframe\n",
    "budget_df = pd.read_csv(budget_path,encoding=\"utf-8\")\n",
    "\n",
    "budget_df.head()\n"
   ]
  },
  {
   "cell_type": "code",
   "execution_count": 91,
   "id": "811a0de0",
   "metadata": {},
   "outputs": [
    {
     "name": "stdout",
     "output_type": "stream",
     "text": [
      "86\n"
     ]
    }
   ],
   "source": [
    "# Calculate the number of unique authors in the DataFrame\n",
    "date_count = len(budget_df[\"Date\"].unique())\n",
    "\n",
    "# Print the number of unique dates. \n",
    "print(date_count)"
   ]
  },
  {
   "cell_type": "code",
   "execution_count": 92,
   "id": "31c7fe84",
   "metadata": {},
   "outputs": [
    {
     "name": "stdout",
     "output_type": "stream",
     "text": [
      "_________________________________________________\n"
     ]
    }
   ],
   "source": [
    "print(\"_________________________________________________\")"
   ]
  },
  {
   "cell_type": "code",
   "execution_count": 93,
   "id": "61114212",
   "metadata": {},
   "outputs": [
    {
     "name": "stdout",
     "output_type": "stream",
     "text": [
      "22564198\n"
     ]
    }
   ],
   "source": [
    "#The net total amount of \"Profit/Losses\" over the entire period\n",
    "net_total = sum(budget_df[\"Profit/Losses\"])\n",
    "\n",
    "#print the total amount of profit and loss\n",
    "print(net_total)"
   ]
  },
  {
   "cell_type": "code",
   "execution_count": 94,
   "id": "3facb556",
   "metadata": {},
   "outputs": [
    {
     "name": "stdout",
     "output_type": "stream",
     "text": [
      "__________________________________________________\n"
     ]
    }
   ],
   "source": [
    "print(\"__________________________________________________\")"
   ]
  },
  {
   "cell_type": "code",
   "execution_count": 95,
   "id": "1d5157f9",
   "metadata": {},
   "outputs": [
    {
     "name": "stdout",
     "output_type": "stream",
     "text": [
      "-8311.105882352942\n"
     ]
    }
   ],
   "source": [
    "# The changes in \"Profit/Losses\" over the entire period, and then the average of those changes\n",
    "profit_loss_df = budget_df[\"Profit/Losses\"]- budget_df[\"Profit/Losses\"].shift(1)\n",
    "\n",
    "average_change = profit_loss_df.mean()\n",
    "\n",
    "#print the average of the changes\n",
    "print(average_change)"
   ]
  },
  {
   "cell_type": "code",
   "execution_count": 99,
   "id": "79797958",
   "metadata": {},
   "outputs": [
    {
     "name": "stdout",
     "output_type": "stream",
     "text": [
      "__________________________________________________\n"
     ]
    }
   ],
   "source": [
    "print(\"__________________________________________________\")"
   ]
  },
  {
   "cell_type": "code",
   "execution_count": 132,
   "id": "b7c66362",
   "metadata": {},
   "outputs": [
    {
     "name": "stdout",
     "output_type": "stream",
     "text": [
      "1862002.0\n",
      "Aug-16\n"
     ]
    }
   ],
   "source": [
    "#The greatest increase in profits (date and amount) over the entire period\n",
    "greatest_increase = profit_loss_df.max()\n",
    "row = profit_loss_df == profit_loss_df.max()\n",
    "\n",
    "date_increase = budget_df.loc[row,\"Date\"].values[0]\n",
    "\n",
    "#print the greatest increase in profits\n",
    "print(greatest_increase)\n",
    "print(date_increase)"
   ]
  },
  {
   "cell_type": "code",
   "execution_count": 133,
   "id": "f86055e9",
   "metadata": {},
   "outputs": [
    {
     "name": "stdout",
     "output_type": "stream",
     "text": [
      "-1825558.0\n",
      "Feb-14\n"
     ]
    }
   ],
   "source": [
    "#The greatest decrease in profits (date and amount) over the entire period\n",
    "\n",
    "greatest_decrease = profit_loss_df.min()\n",
    "row = profit_loss_df == profit_loss_df.min()\n",
    "\n",
    "date_decrease = budget_df.loc[row,\"Date\"].values[0]\n",
    "\n",
    "#print the greatest increase in profits\n",
    "print(greatest_decrease)\n",
    "print(date_decrease)"
   ]
  },
  {
   "cell_type": "code",
   "execution_count": 135,
   "id": "b13913ed",
   "metadata": {},
   "outputs": [
    {
     "name": "stdout",
     "output_type": "stream",
     "text": [
      "Financial Analysis\n",
      "_______________________\n",
      "Total Months : 86\n",
      "Total: $ 22564198\n",
      "Average Change: $ -8311.105882352942\n",
      "Greatest Increase in Profits: 1862002.0 Aug-16\n",
      "Greatest Decrease in Profits: -1825558.0 Feb-14\n"
     ]
    }
   ],
   "source": [
    "#output to text file\n",
    "Result = [date_count,net_total,average_change,greatest_increase,date_increase,greatest_decrease,date_decrease]\n",
    "result_df = pd.DataFrame(Result)\n",
    "\n",
    "output_file = \"/Users/staciesauer/GitHub/Python-Challenge/PyBank/Analysis/output.txt\"\n",
    "result_df.to_csv(output_file)\n",
    "\n",
    "print(\"Financial Analysis\")\n",
    "print(\"_______________________\")\n",
    "print(\"Total Months :\", date_count)\n",
    "print(\"Total: $\" ,net_total)\n",
    "print(\"Average Change: $\" ,average_change)\n",
    "print(\"Greatest Increase in Profits:\" ,greatest_increase, date_increase)\n",
    "print(\"Greatest Decrease in Profits:\" ,greatest_decrease, date_decrease)"
   ]
  },
  {
   "cell_type": "code",
   "execution_count": null,
   "id": "e990941a",
   "metadata": {},
   "outputs": [],
   "source": []
  }
 ],
 "metadata": {
  "kernelspec": {
   "display_name": "Python 3 (ipykernel)",
   "language": "python",
   "name": "python3"
  },
  "language_info": {
   "codemirror_mode": {
    "name": "ipython",
    "version": 3
   },
   "file_extension": ".py",
   "mimetype": "text/x-python",
   "name": "python",
   "nbconvert_exporter": "python",
   "pygments_lexer": "ipython3",
   "version": "3.10.13"
  }
 },
 "nbformat": 4,
 "nbformat_minor": 5
}
