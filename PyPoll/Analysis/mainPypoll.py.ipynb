{
 "cells": [
  {
   "cell_type": "code",
   "execution_count": 1,
   "id": "85aa8bb0",
   "metadata": {},
   "outputs": [
    {
     "data": {
      "text/html": [
       "<div>\n",
       "<style scoped>\n",
       "    .dataframe tbody tr th:only-of-type {\n",
       "        vertical-align: middle;\n",
       "    }\n",
       "\n",
       "    .dataframe tbody tr th {\n",
       "        vertical-align: top;\n",
       "    }\n",
       "\n",
       "    .dataframe thead th {\n",
       "        text-align: right;\n",
       "    }\n",
       "</style>\n",
       "<table border=\"1\" class=\"dataframe\">\n",
       "  <thead>\n",
       "    <tr style=\"text-align: right;\">\n",
       "      <th></th>\n",
       "      <th>Ballot ID</th>\n",
       "      <th>County</th>\n",
       "      <th>Candidate</th>\n",
       "    </tr>\n",
       "  </thead>\n",
       "  <tbody>\n",
       "    <tr>\n",
       "      <th>0</th>\n",
       "      <td>1323913</td>\n",
       "      <td>Jefferson</td>\n",
       "      <td>Charles Casper Stockham</td>\n",
       "    </tr>\n",
       "    <tr>\n",
       "      <th>1</th>\n",
       "      <td>1005842</td>\n",
       "      <td>Jefferson</td>\n",
       "      <td>Charles Casper Stockham</td>\n",
       "    </tr>\n",
       "    <tr>\n",
       "      <th>2</th>\n",
       "      <td>1880345</td>\n",
       "      <td>Jefferson</td>\n",
       "      <td>Charles Casper Stockham</td>\n",
       "    </tr>\n",
       "    <tr>\n",
       "      <th>3</th>\n",
       "      <td>1600337</td>\n",
       "      <td>Jefferson</td>\n",
       "      <td>Charles Casper Stockham</td>\n",
       "    </tr>\n",
       "    <tr>\n",
       "      <th>4</th>\n",
       "      <td>1835994</td>\n",
       "      <td>Jefferson</td>\n",
       "      <td>Charles Casper Stockham</td>\n",
       "    </tr>\n",
       "  </tbody>\n",
       "</table>\n",
       "</div>"
      ],
      "text/plain": [
       "   Ballot ID     County                Candidate\n",
       "0    1323913  Jefferson  Charles Casper Stockham\n",
       "1    1005842  Jefferson  Charles Casper Stockham\n",
       "2    1880345  Jefferson  Charles Casper Stockham\n",
       "3    1600337  Jefferson  Charles Casper Stockham\n",
       "4    1835994  Jefferson  Charles Casper Stockham"
      ]
     },
     "execution_count": 1,
     "metadata": {},
     "output_type": "execute_result"
    }
   ],
   "source": [
    "import pandas as pd\n",
    "from pathlib import Path\n",
    "\n",
    "#file to upload\n",
    "election_path = Path(\"/Users/staciesauer/GitHub/Python-Challenge/PyPoll/Resources/election_data.csv\")\n",
    "\n",
    "#read csv and add data to dataframe\n",
    "election_df = pd.read_csv(election_path,encoding=\"utf-8\")\n",
    "\n",
    "election_df.head()\n"
   ]
  },
  {
   "cell_type": "code",
   "execution_count": 2,
   "id": "811a0de0",
   "metadata": {},
   "outputs": [
    {
     "name": "stdout",
     "output_type": "stream",
     "text": [
      "369711\n"
     ]
    }
   ],
   "source": [
    "# The total number of votes cast\n",
    "vote_count = len(election_df[\"Ballot ID\"].unique())\n",
    "\n",
    "# Print the number of unique votes. \n",
    "print(vote_count)"
   ]
  },
  {
   "cell_type": "code",
   "execution_count": 92,
   "id": "31c7fe84",
   "metadata": {},
   "outputs": [
    {
     "name": "stdout",
     "output_type": "stream",
     "text": [
      "_________________________________________________\n"
     ]
    }
   ],
   "source": [
    "print(\"_________________________________________________\")"
   ]
  },
  {
   "cell_type": "code",
   "execution_count": 5,
   "id": "61114212",
   "metadata": {},
   "outputs": [
    {
     "name": "stdout",
     "output_type": "stream",
     "text": [
      "['Charles Casper Stockham' 'Diana DeGette' 'Raymon Anthony Doane']\n"
     ]
    }
   ],
   "source": [
    "#A complete list of candidates who received votes\n",
    "candidate_vote = election_df[\"Candidate\"].unique()\n",
    "\n",
    "#print the candidates who recieved votes\n",
    "print(candidate_vote)"
   ]
  },
  {
   "cell_type": "code",
   "execution_count": 15,
   "id": "3facb556",
   "metadata": {},
   "outputs": [
    {
     "name": "stdout",
     "output_type": "stream",
     "text": [
      "__________________________________________________\n"
     ]
    }
   ],
   "source": [
    "print(\"__________________________________________________\")"
   ]
  },
  {
   "cell_type": "code",
   "execution_count": 25,
   "id": "1d5157f9",
   "metadata": {},
   "outputs": [
    {
     "data": {
      "text/html": [
       "<div>\n",
       "<style scoped>\n",
       "    .dataframe tbody tr th:only-of-type {\n",
       "        vertical-align: middle;\n",
       "    }\n",
       "\n",
       "    .dataframe tbody tr th {\n",
       "        vertical-align: top;\n",
       "    }\n",
       "\n",
       "    .dataframe thead th {\n",
       "        text-align: right;\n",
       "    }\n",
       "</style>\n",
       "<table border=\"1\" class=\"dataframe\">\n",
       "  <thead>\n",
       "    <tr style=\"text-align: right;\">\n",
       "      <th></th>\n",
       "      <th>Ballot ID</th>\n",
       "    </tr>\n",
       "    <tr>\n",
       "      <th>Candidate</th>\n",
       "      <th></th>\n",
       "    </tr>\n",
       "  </thead>\n",
       "  <tbody>\n",
       "    <tr>\n",
       "      <th>Charles Casper Stockham</th>\n",
       "      <td>85213</td>\n",
       "    </tr>\n",
       "    <tr>\n",
       "      <th>Diana DeGette</th>\n",
       "      <td>272892</td>\n",
       "    </tr>\n",
       "    <tr>\n",
       "      <th>Raymon Anthony Doane</th>\n",
       "      <td>11606</td>\n",
       "    </tr>\n",
       "  </tbody>\n",
       "</table>\n",
       "</div>"
      ],
      "text/plain": [
       "                         Ballot ID\n",
       "Candidate                         \n",
       "Charles Casper Stockham      85213\n",
       "Diana DeGette               272892\n",
       "Raymon Anthony Doane         11606"
      ]
     },
     "execution_count": 25,
     "metadata": {},
     "output_type": "execute_result"
    }
   ],
   "source": [
    "#remove the county column\n",
    "del election_df[\"County\"]\n",
    "\n",
    "#The total number of votes each candidate won\n",
    "candidate_vote_df = election_df.groupby([\"Candidate\"])\n",
    "\n",
    "#print the df\n",
    "candidate_vote_df.count().head()\n"
   ]
  },
  {
   "cell_type": "code",
   "execution_count": 99,
   "id": "79797958",
   "metadata": {},
   "outputs": [
    {
     "name": "stdout",
     "output_type": "stream",
     "text": [
      "__________________________________________________\n"
     ]
    }
   ],
   "source": [
    "print(\"__________________________________________________\") "
   ]
  },
  {
   "cell_type": "code",
   "execution_count": 50,
   "id": "b7c66362",
   "metadata": {
    "scrolled": true
   },
   "outputs": [
    {
     "name": "stdout",
     "output_type": "stream",
     "text": [
      "                         Percentage Votes  Total Votes\n",
      "Candidate                                             \n",
      "Charles Casper Stockham         23.048543        85213\n",
      "Diana DeGette                   73.812248       272892\n",
      "Raymon Anthony Doane             3.139209        11606\n"
     ]
    }
   ],
   "source": [
    "#The percentage of votes each candidate won\n",
    "#grouping the candidate_vote dataframe by the candidate column and counting results\n",
    "candidate_vote_df = election_df.groupby([\"Candidate\"]).count()\n",
    "\n",
    "#totally the Ballot ID by the above dataframe sorted by candidate\n",
    "candidate_total = candidate_vote_df[\"Ballot ID\"].sum()\n",
    "\n",
    "#added total votes to be used in dataframe below\n",
    "total_votes = candidate_vote_df\n",
    "\n",
    "#getting the percentage of the total votes by candidate divided by total number of votes.\n",
    "percentage_vote_df = (candidate_vote_df / vote_count) * 100\n",
    "\n",
    "#combining the dataframes to include all 3 columns\n",
    "percentage_vote_df[\"Total Votes\"] = total_votes\n",
    "\n",
    "#changing column name\n",
    "percentage_vote_df = percentage_vote_df.rename(columns={\"Ballot ID\": \"Percentage Votes\"})\n",
    "\n",
    "print(percentage_vote_df)\n"
   ]
  },
  {
   "cell_type": "code",
   "execution_count": 54,
   "id": "f86055e9",
   "metadata": {},
   "outputs": [
    {
     "name": "stdout",
     "output_type": "stream",
     "text": [
      "Percentage Votes    The winner is:Diana DeGette\n",
      "Total Votes         The winner is:Diana DeGette\n",
      "dtype: object\n"
     ]
    }
   ],
   "source": [
    "#The winner based on popular vote\n",
    "Winner = percentage_vote_df.idxmax()\n",
    "\n",
    "print(f\"The winner is:\" + Winner)\n"
   ]
  },
  {
   "cell_type": "code",
   "execution_count": 57,
   "id": "b13913ed",
   "metadata": {},
   "outputs": [
    {
     "name": "stdout",
     "output_type": "stream",
     "text": [
      "Election Results\n",
      "_______________________\n",
      "Total Votes : 369711\n",
      "                         Percentage Votes  Total Votes\n",
      "Candidate                                             \n",
      "Charles Casper Stockham         23.048543        85213\n",
      "Diana DeGette                   73.812248       272892\n",
      "Raymon Anthony Doane             3.139209        11606\n",
      "Percentage Votes    The winner is:Diana DeGette\n",
      "Total Votes         The winner is:Diana DeGette\n",
      "dtype: object\n"
     ]
    }
   ],
   "source": [
    "#output to text file\n",
    "Result = [vote_count,percentage_vote_df, Winner]\n",
    "result_df = pd.DataFrame(Result)\n",
    "\n",
    "output_file = \"/Users/staciesauer/GitHub/Python-Challenge/PyPoll/Analysis/output.txt\"\n",
    "result_df.to_csv(output_file)\n",
    "\n",
    "print(\"Election Results\")\n",
    "print(\"_______________________\")\n",
    "print(\"Total Votes :\", vote_count)\n",
    "print(percentage_vote_df)\n",
    "print(f\"The winner is:\" + Winner)"
   ]
  },
  {
   "cell_type": "code",
   "execution_count": null,
   "id": "e990941a",
   "metadata": {},
   "outputs": [],
   "source": []
  }
 ],
 "metadata": {
  "kernelspec": {
   "display_name": "Python 3 (ipykernel)",
   "language": "python",
   "name": "python3"
  },
  "language_info": {
   "codemirror_mode": {
    "name": "ipython",
    "version": 3
   },
   "file_extension": ".py",
   "mimetype": "text/x-python",
   "name": "python",
   "nbconvert_exporter": "python",
   "pygments_lexer": "ipython3",
   "version": "3.10.13"
  }
 },
 "nbformat": 4,
 "nbformat_minor": 5
}
